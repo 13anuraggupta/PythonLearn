{
 "cells": [
  {
   "cell_type": "code",
   "execution_count": null,
   "metadata": {},
   "outputs": [],
   "source": [
    "import pandas as pd\n",
    "import random\n",
    "\n",
    "#read the data from the downloaded CSV file.\n",
    "data = pd.read_csv('https://s3-eu-west-1.amazonaws.com/shanebucket/downloads/uk-500.csv')\n",
    "# set a numeric id for use as an index for examples.\n",
    "data['id'] = [random.randint(0,1000) for x in range(data.shape[0])]\n",
    " \n",
    "data.head(5)"
   ]
  },
  {
   "cell_type": "code",
   "execution_count": null,
   "metadata": {},
   "outputs": [],
   "source": [
    "# Single selections using iloc and DataFrame\n",
    "# Rows:\n",
    "data.iloc[0] # first row of data frame (Aleshia Tomkiewicz) - Note a Series data type output.\n",
    "data.iloc[1] # second row of data frame (Evan Zigomalas)\n",
    "data.iloc[-1] # last row of data frame (Mi Richan)\n",
    "# Columns:\n",
    "data.iloc[:,0] # first column of data frame (first_name)\n",
    "data.iloc[:,1] # second column of data frame (last_name)\n",
    "data.iloc[:,-1] # last column of data frame (id)\n",
    "\n",
    "# Multiple row and column selections using iloc and DataFrame\n",
    "data.iloc[0:5] # first five rows of dataframe\n",
    "data.iloc[:, 0:2] # first two columns of data frame with all rows\n",
    "data.iloc[[0,3,6,24], [0,5,6]] # 1st, 4th, 7th, 25th row + 1st 6th 7th columns.\n",
    "data.iloc[0:5, 5:8] # first 5 rows and 5th, 6th, 7th columns of data frame (county -> phone1)"
   ]
  },
  {
   "cell_type": "code",
   "execution_count": null,
   "metadata": {},
   "outputs": [],
   "source": [
    "data.set_index(\"last_name\", inplace=True)\n",
    "\n",
    "data.loc['Andrade']\n",
    "data.loc[['Andrade','Veness']]\n",
    "data.loc[['Andrade','Veness'],['first_name','address','city']]\n",
    "\n",
    "# Select rows with index values 'Andrade' and 'Veness', with all columns between 'city' and 'email'\n",
    "data.loc[['Andrade', 'Veness'], 'city':'email']\n",
    "# Select same rows, with just 'first_name', 'address' and 'city' columns\n",
    "data.loc['Andrade':'Veness', ['first_name', 'address', 'city']]\n",
    " \n",
    "# Change the index to be based on the 'id' column\n",
    "data.set_index('id', inplace=True)\n",
    "# select the row with 'id' = 487\n",
    "data.loc[487]\n",
    "\n",
    "data.loc[data['first_name'] == 'Erasmo', ['company_name', 'email', 'phone1']]\n",
    "\n",
    "# Series return\n",
    "data.loc[data['first_name'] == 'Antonio', 'email']\n",
    "# Dataframe return\n",
    "data.loc[data['first_name'] == 'Antonio', ['email']]\n",
    "\n",
    "# Select rows with first name Antonio, # and all columns between 'city' and 'email'\n",
    "data.loc[data['first_name'] == 'Antonio', 'city':'email']\n",
    " \n",
    "# Select rows where the email column ends with 'hotmail.com', include all columns\n",
    "data.loc[data['email'].str.endswith(\"hotmail.com\")]   \n",
    " \n",
    "# Select rows with last_name equal to some values, all columns\n",
    "data.loc[data['first_name'].isin(['France', 'Tyisha', 'Eric'])]   \n",
    "       \n",
    "# Select rows with first name Antonio AND hotmail email addresses\n",
    "data.loc[data['email'].str.endswith(\"gmail.com\") & (data['first_name'] == 'Antonio')] \n",
    " \n",
    "# select rows with id column between 100 and 200, and just return 'postal' and 'web' columns\n",
    "data.loc[(data['id'] > 100) & (data['id'] <= 200), ['postal', 'web']] \n",
    " \n",
    "# A lambda function that yields True/False values can also be used.\n",
    "# Select rows where the company name has 4 words in it.\n",
    "data.loc[data['company_name'].apply(lambda x: len(x.split(' ')) == 4)] \n",
    " \n",
    "# Selections can be achieved outside of the main .loc for clarity:\n",
    "# Form a separate variable with your selections:\n",
    "idx = data['company_name'].apply(lambda x: len(x.split(' ')) == 4)\n",
    "# Select only the True values in 'idx' and only the 3 columns specified:\n",
    "data.loc[idx, ['email', 'first_name', 'company']]\n",
    "\n",
    "# Change the first name of all rows with an ID greater than 2000 to \"John\"\n",
    "data.loc[data['id'] > 2000, \"first_name\"] = \"John\""
   ]
  }
 ],
 "metadata": {
  "kernelspec": {
   "display_name": "Python 3",
   "language": "python",
   "name": "python3"
  },
  "language_info": {
   "codemirror_mode": {
    "name": "ipython",
    "version": 3
   },
   "file_extension": ".py",
   "mimetype": "text/x-python",
   "name": "python",
   "nbconvert_exporter": "python",
   "pygments_lexer": "ipython3",
   "version": "3.5.6"
  }
 },
 "nbformat": 4,
 "nbformat_minor": 2
}
